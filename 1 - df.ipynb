{
 "cells": [
  {
   "cell_type": "code",
   "execution_count": 2,
   "id": "61d917e8",
   "metadata": {},
   "outputs": [],
   "source": [
    "import pandas as pd\n",
    "\n",
    "columns = ['date & time', 'open', 'high', 'low', 'close', 'price']\n",
    "\n",
    "df2010 = pd.read_csv('data/raw_data/SPX2010.csv',delimiter = \";\", names=columns)\n",
    "df2011 = pd.read_csv('data/raw_data/SPX2011.csv',delimiter = \";\", names=columns)\n",
    "df2012 = pd.read_csv('data/raw_data/SPX2012.csv',delimiter = \";\", names=columns)\n",
    "df2013 = pd.read_csv('data/raw_data/SPX2013.csv',delimiter = \";\", names=columns)\n",
    "df2014 = pd.read_csv('data/raw_data/SPX2014.csv',delimiter = \";\", names=columns)\n",
    "df2015 = pd.read_csv('data/raw_data/SPX2015.csv',delimiter = \";\", names=columns)\n",
    "df2016 = pd.read_csv('data/raw_data/SPX2016.csv',delimiter = \";\", names=columns)\n",
    "df2017 = pd.read_csv('data/raw_data/SPX2017.csv',delimiter = \";\", names=columns)\n",
    "df2018 = pd.read_csv('data/raw_data/SPX2018.csv',delimiter = \";\", names=columns)\n",
    "\n",
    "df = pd.concat([df2010, df2011, df2012, df2013, df2014, df2015, df2016, df2017, df2018], ignore_index=True)\n",
    "\n",
    "df['date & time'] = pd.to_datetime(df['date & time'], format='%Y%m%d %H%M%S')\n"
   ]
  },
  {
   "cell_type": "code",
   "execution_count": null,
   "id": "cd46e4d5",
   "metadata": {},
   "outputs": [
    {
     "name": "stdout",
     "output_type": "stream",
     "text": [
      "                       price\n",
      "datetime                    \n",
      "2010-11-14 18:00:00  1195.75\n",
      "2010-11-14 18:01:00  1195.50\n",
      "2010-11-14 18:02:00  1195.25\n",
      "2010-11-14 18:03:00  1195.50\n",
      "2010-11-14 18:04:00  1195.75\n",
      "...                      ...\n",
      "2018-12-31 16:09:00  2510.07\n",
      "2018-12-31 16:10:00  2509.57\n",
      "2018-12-31 16:11:00  2509.27\n",
      "2018-12-31 16:12:00  2509.27\n",
      "2018-12-31 16:13:00  2509.77\n",
      "\n",
      "[2117667 rows x 1 columns]\n"
     ]
    }
   ],
   "source": [
    "directory = 'data'\n",
    "df = df.drop(columns=['open', 'high', 'low', 'price'])\n",
    "df = df.rename(columns={'date & time': 'datetime', 'close': 'price'})\n",
    "df = df.set_index('datetime')\n",
    "\n",
    "df.dropna(inplace=True)\n",
    "\n",
    "# save the cleaned data\n",
    "df.to_csv(f'{directory}/df.csv', sep=',', index=True, header=True)\n"
   ]
  }
 ],
 "metadata": {
  "kernelspec": {
   "display_name": "Python 3",
   "language": "python",
   "name": "python3"
  },
  "language_info": {
   "codemirror_mode": {
    "name": "ipython",
    "version": 3
   },
   "file_extension": ".py",
   "mimetype": "text/x-python",
   "name": "python",
   "nbconvert_exporter": "python",
   "pygments_lexer": "ipython3",
   "version": "3.13.5"
  }
 },
 "nbformat": 4,
 "nbformat_minor": 5
}
